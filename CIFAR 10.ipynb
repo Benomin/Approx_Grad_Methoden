{
 "cells": [
  {
   "cell_type": "code",
   "id": "initial_id",
   "metadata": {
    "collapsed": true,
    "ExecuteTime": {
     "end_time": "2025-07-24T10:37:18.666527Z",
     "start_time": "2025-07-24T10:37:15.510074Z"
    }
   },
   "source": [
    "import torch\n",
    "import torchvision\n",
    "import numpy as np\n",
    "from approx_attributes import *\n",
    "import os\n",
    "import torch.nn as nn\n",
    "import torch.nn.functional as F\n",
    "from torch.utils.data import Dataset\n",
    "from torchvision.transforms import ToTensor\n",
    "import matplotlib.pyplot as plt\n",
    "from torchvision import datasets, transforms\n",
    "from torch.utils.data import DataLoader\n",
    "import matplotlib.pyplot as plt\n",
    "#from approx_attributes import *\n",
    "from captum.attr import InputXGradient,IntegratedGradients,Saliency\n",
    "print(torch.__version__)\n",
    "print(torchvision.__version__)"
   ],
   "outputs": [
    {
     "name": "stdout",
     "output_type": "stream",
     "text": [
      "2.7.1+cu126\n",
      "0.22.1+cu126\n"
     ]
    },
    {
     "name": "stderr",
     "output_type": "stream",
     "text": [
      "/home/benomin/PycharmProjects/BA-Approximation-Feature-Attribution/.venv/lib/python3.10/site-packages/tqdm/auto.py:21: TqdmWarning: IProgress not found. Please update jupyter and ipywidgets. See https://ipywidgets.readthedocs.io/en/stable/user_install.html\n",
      "  from .autonotebook import tqdm as notebook_tqdm\n"
     ]
    }
   ],
   "execution_count": 1
  },
  {
   "metadata": {
    "ExecuteTime": {
     "end_time": "2025-07-24T10:37:19.967185Z",
     "start_time": "2025-07-24T10:37:18.689994Z"
    }
   },
   "cell_type": "code",
   "source": [
    "transform = transforms.ToTensor()\n",
    "cifar_trainset = datasets.CIFAR10(root='./data', train=True, download=True, transform=transform)\n",
    "cifar_testset = datasets.CIFAR10(root='./data', train=False, download=True, transform=transform)\n",
    "train_loader = torch.utils.data.DataLoader(cifar_trainset, batch_size=1, shuffle=True)\n",
    "test_loader = torch.utils.data.DataLoader(cifar_testset, batch_size=1, shuffle=False)"
   ],
   "id": "5bd1616b811e97e9",
   "outputs": [],
   "execution_count": 2
  },
  {
   "metadata": {
    "ExecuteTime": {
     "end_time": "2025-07-24T10:37:20.104137Z",
     "start_time": "2025-07-24T10:37:20.083617Z"
    }
   },
   "cell_type": "code",
   "source": [
    "class CNN(nn.Module):\n",
    "    def __init__(self):\n",
    "        super(CNN, self).__init__()\n",
    "        \"\"\"\n",
    "        self.conv1 = nn.Conv2d(3, 32, kernel_size=5)\n",
    "        self.conv2 = nn.Conv2d(32, 32, kernel_size=5)\n",
    "        self.conv3 = nn.Conv2d(32, 64, kernel_size=5)\n",
    "        self.fc1 = nn.Linear(4, 256)\n",
    "        self.fc2 = nn.Linear(256, 10)\n",
    "        \"\"\"\n",
    "        self.conv1 = nn.Conv2d(3, 32, kernel_size=3, stride=1, padding=1)  # 32x32x32\n",
    "        self.conv2 = nn.Conv2d(32, 32, kernel_size=3, stride=1, padding=1)  # 32x32x32 -> 16x16x32 (nach MaxPool)\n",
    "        self.conv3 = nn.Conv2d(32, 64, kernel_size=3, stride=1, padding=1)  # 16x16x64 -> 8x8x64 (nach MaxPool)\n",
    "        self.flatten = nn.Flatten()\n",
    "        self.fc1 = nn.Linear(64*8*8, 256)  # 64*8*8 = 4096\n",
    "        self.fc2 = nn.Linear(256, 10)\n",
    "\n",
    "    def forward(self, x):\n",
    "        # Input: 32x32x3\n",
    "        x = F.relu(self.conv1(x))                      # -> 32x32x32\n",
    "        x = F.relu(self.conv2(x))                      # -> 32x32x32\n",
    "        x = F.max_pool2d(x, 2)                         # -> 16x16x32\n",
    "        x = F.relu(self.conv3(x))                      # -> 16x16x64\n",
    "        x = F.max_pool2d(x, 2)                         # -> 8x8x64\n",
    "        x = self.flatten(x)                            # -> 4096\n",
    "        x = F.relu(self.fc1(x))                        # -> 256\n",
    "        x = self.fc2(x)                                # -> 10\n",
    "        return x\n",
    "\n",
    "\n",
    "def train_one_epoch(model, dataloader, optimizer, device):\n",
    "    criterion = nn.CrossEntropyLoss()\n",
    "    model.train()\n",
    "    total_loss = 0\n",
    "    correct = 0\n",
    "    total = 0\n",
    "    i = 0\n",
    "    for batch_idx, (data, target) in enumerate(dataloader):\n",
    "        i +=1\n",
    "        data, target = data.to(device), target.to(device)\n",
    "\n",
    "        optimizer.zero_grad()\n",
    "        output = model(data)\n",
    "        #print(f\"output: {output} target: {target}\")\n",
    "        loss = criterion(output, target)\n",
    "        loss.backward()\n",
    "        optimizer.step()\n",
    "\n",
    "        total_loss += loss.item()\n",
    "        pred = output.argmax(dim=1, keepdim=True)\n",
    "        correct += pred.eq(target.view_as(pred)).sum().item()\n",
    "        total += target.size(0)\n",
    "\n",
    "    avg_loss = total_loss / len(dataloader)\n",
    "    accuracy = 100. * correct / total\n",
    "\n",
    "    print(f'Train Loss: {avg_loss:.4f}, Accuracy: {accuracy:.2f}%')\n",
    "    return avg_loss, accuracy\n",
    "\n",
    "\n",
    "device = torch.device(\"cuda\" if torch.cuda.is_available() else \"cpu\")\n",
    "\n",
    "model = CNN().to(device)\n",
    "\n",
    "if os.path.isfile(\"CifarModelCnn.pth\"):\n",
    "\n",
    "    state_dict = torch.load(\"CifarModelCnn.pth\", map_location=torch.device(device))\n",
    "\n",
    "    model.load_state_dict(state_dict)\n",
    "    model.eval()\n",
    "else:\n",
    "\n",
    "    optimizer = torch.optim.Adam(model.parameters(), lr=0.001)\n",
    "\n",
    "    for x in range(10):\n",
    "        train_one_epoch(model, train_loader, optimizer, device)\n",
    "    torch.save(model.state_dict(), \"CifarModelCnn.pth\")"
   ],
   "id": "bc7b4ec416e319e7",
   "outputs": [],
   "execution_count": 3
  },
  {
   "metadata": {
    "ExecuteTime": {
     "end_time": "2025-07-24T10:37:27.148873Z",
     "start_time": "2025-07-24T10:37:20.147127Z"
    }
   },
   "cell_type": "code",
   "source": [
    "correct = 0\n",
    "total = 0\n",
    "for batch_idx, (data, target) in enumerate(test_loader):\n",
    "    #i +=1\n",
    "    data, target = data.to(device), target.to(device)\n",
    "\n",
    "    #optimizer.zero_grad()\n",
    "    output = model(data)\n",
    "        #print(f\"output: {output} target: {target}\")\n",
    "    #loss = criterion(output, target)\n",
    "    #loss.backward()\n",
    "    #optimizer.step()\n",
    "\n",
    "    #total_loss += loss.item()\n",
    "    pred = output.argmax(dim=1, keepdim=True)\n",
    "    correct += pred.eq(target.view_as(pred)).sum().item()\n",
    "    total += target.size(0)\n",
    "\n",
    "#avg_loss = total_loss / len(dataloader)\n",
    "accuracy = 100. * correct / total\n",
    "print(f'Test Accuracy: {accuracy:.2f}%')"
   ],
   "id": "3521a8ae5bc702c3",
   "outputs": [
    {
     "name": "stdout",
     "output_type": "stream",
     "text": [
      "Test Accuracy: 60.03%\n"
     ]
    }
   ],
   "execution_count": 4
  },
  {
   "metadata": {
    "ExecuteTime": {
     "end_time": "2025-07-24T10:37:27.185842Z",
     "start_time": "2025-07-24T10:37:27.180267Z"
    }
   },
   "cell_type": "code",
   "source": [
    "\"\"\"\n",
    "dataset = test_loader.dataset\n",
    "cifar10_labels = {\n",
    "    0: \"airplane\",\n",
    "    1: \"automobile\",\n",
    "    2: \"bird\",\n",
    "    3: \"cat\",\n",
    "    4: \"deer\",\n",
    "    5: \"dog\",\n",
    "    6: \"frog\",\n",
    "    7: \"horse\",\n",
    "    8: \"ship\",\n",
    "    9: \"truck\"\n",
    "}\n",
    "\n",
    "\n",
    "idx = np.random.randint(0, len(dataset) - 1)\n",
    "\n",
    "\n",
    "img, label = dataset[idx]\n",
    "\n",
    "\n",
    "aa =  ApproxAttribution(model)\n",
    "sal = Saliency(model)\n",
    "ig = IntegratedGradients(model)\n",
    "\n",
    "image = img[0]\n",
    "#attributions = np.random.rand(784)\n",
    "\n",
    "\n",
    "attribution_map = aa.grad_approx(0.1,[img.unsqueeze(0)],label).reshape(3,32, 32)\n",
    "\n",
    "#for elem in attribution_map:\n",
    "#    print(elem)\n",
    "#attribution_map = aa.int_Grad_approx(0.01,0.01,1,[img],label).reshape(28, 28)\n",
    "\n",
    "attribution_map_real = sal.attribute(img.unsqueeze(0).float(), target=label).detach().numpy().reshape(3,32, 32)\n",
    "#attribution_map_real = ig.attribute(img.unsqueeze(0).float(), target=label,baselines=torch.zeros_like(img, dtype=torch.float)).detach().numpy().reshape(28, 28)\n",
    "\n",
    "\n",
    "fig, axes = plt.subplots(1, 3,  figsize=(8, 4))\n",
    "\n",
    "\n",
    "axes[0].imshow(image, cmap='gray')\n",
    "axes[0].set_title(cifar10_labels[label])\n",
    "axes[0].axis('off')\n",
    "\n",
    "\n",
    "im = axes[1].imshow(attribution_map, cmap='hot')\n",
    "axes[1].set_title('Attribution')\n",
    "axes[1].axis('off')\n",
    "\n",
    "im = axes[1].imshow(attribution_map_real, cmap='hot')\n",
    "axes[1].set_title('Attribution Real')\n",
    "axes[1].axis('off')\n",
    "\n",
    "\n",
    "fig.colorbar(im, ax=axes[1], fraction=0.046, pad=0.04)\n",
    "\n",
    "plt.tight_layout()\n",
    "plt.show()\n",
    "\n",
    "print(pearson_correlation(attribution_map,attribution_map_real))\n",
    "#print(sample_idx)\n",
    "\n",
    "\n",
    "# Bilder bei denen grad failt: 33524 20015 13675 4926\n",
    "\"\"\""
   ],
   "id": "477a80c951cfe6cc",
   "outputs": [
    {
     "data": {
      "text/plain": [
       "'\\ndataset = test_loader.dataset\\ncifar10_labels = {\\n    0: \"airplane\",\\n    1: \"automobile\",\\n    2: \"bird\",\\n    3: \"cat\",\\n    4: \"deer\",\\n    5: \"dog\",\\n    6: \"frog\",\\n    7: \"horse\",\\n    8: \"ship\",\\n    9: \"truck\"\\n}\\n\\n\\nidx = np.random.randint(0, len(dataset) - 1)\\n\\n\\nimg, label = dataset[idx]\\n\\n\\naa =  ApproxAttribution(model)\\nsal = Saliency(model)\\nig = IntegratedGradients(model)\\n\\nimage = img[0]\\n#attributions = np.random.rand(784)\\n\\n\\nattribution_map = aa.grad_approx(0.1,[img.unsqueeze(0)],label).reshape(3,32, 32)\\n\\n#for elem in attribution_map:\\n#    print(elem)\\n#attribution_map = aa.int_Grad_approx(0.01,0.01,1,[img],label).reshape(28, 28)\\n\\nattribution_map_real = sal.attribute(img.unsqueeze(0).float(), target=label).detach().numpy().reshape(3,32, 32)\\n#attribution_map_real = ig.attribute(img.unsqueeze(0).float(), target=label,baselines=torch.zeros_like(img, dtype=torch.float)).detach().numpy().reshape(28, 28)\\n\\n\\nfig, axes = plt.subplots(1, 3,  figsize=(8, 4))\\n\\n\\naxes[0].imshow(image, cmap=\\'gray\\')\\naxes[0].set_title(cifar10_labels[label])\\naxes[0].axis(\\'off\\')\\n\\n\\nim = axes[1].imshow(attribution_map, cmap=\\'hot\\')\\naxes[1].set_title(\\'Attribution\\')\\naxes[1].axis(\\'off\\')\\n\\nim = axes[1].imshow(attribution_map_real, cmap=\\'hot\\')\\naxes[1].set_title(\\'Attribution Real\\')\\naxes[1].axis(\\'off\\')\\n\\n\\nfig.colorbar(im, ax=axes[1], fraction=0.046, pad=0.04)\\n\\nplt.tight_layout()\\nplt.show()\\n\\nprint(pearson_correlation(attribution_map,attribution_map_real))\\n#print(sample_idx)\\n\\n\\n# Bilder bei denen grad failt: 33524 20015 13675 4926\\n'"
      ]
     },
     "execution_count": 5,
     "metadata": {},
     "output_type": "execute_result"
    }
   ],
   "execution_count": 5
  },
  {
   "metadata": {
    "ExecuteTime": {
     "end_time": "2025-07-24T10:37:27.399516Z",
     "start_time": "2025-07-24T10:37:27.253380Z"
    }
   },
   "cell_type": "code",
   "source": "idx = np.random.randint(0, len(dataset) - 1)",
   "id": "225484ce672e0ef5",
   "outputs": [
    {
     "ename": "NameError",
     "evalue": "name 'dataset' is not defined",
     "output_type": "error",
     "traceback": [
      "\u001B[0;31m---------------------------------------------------------------------------\u001B[0m",
      "\u001B[0;31mNameError\u001B[0m                                 Traceback (most recent call last)",
      "Cell \u001B[0;32mIn[6], line 1\u001B[0m\n\u001B[0;32m----> 1\u001B[0m idx \u001B[38;5;241m=\u001B[39m np\u001B[38;5;241m.\u001B[39mrandom\u001B[38;5;241m.\u001B[39mrandint(\u001B[38;5;241m0\u001B[39m, \u001B[38;5;28mlen\u001B[39m(\u001B[43mdataset\u001B[49m) \u001B[38;5;241m-\u001B[39m \u001B[38;5;241m1\u001B[39m)\n",
      "\u001B[0;31mNameError\u001B[0m: name 'dataset' is not defined"
     ]
    }
   ],
   "execution_count": 6
  },
  {
   "metadata": {
    "jupyter": {
     "is_executing": true
    },
    "ExecuteTime": {
     "end_time": "2025-07-24T10:37:27.412230378Z",
     "start_time": "2025-07-17T17:25:42.449601Z"
    }
   },
   "cell_type": "code",
   "source": [
    "# shape: [3, 32, 32]\n",
    "img, label = dataset[idx]\n",
    "\n",
    "\n",
    "attribution_map = aa.int_grad_approx(0.1, [img.unsqueeze(0)], target=label).reshape(3, 32, 32)\n",
    "\n",
    "# Attribution mit Saliency von Captum\n",
    "attribution_map_real = sal.attribute(img.unsqueeze(0).float(), target=label)\n",
    "attribution_map_real = attribution_map_real.squeeze().detach().numpy()  # shape: [3, 32, 32]\n",
    "\n",
    "#(shape: [3, 32, 32] -> [32, 32, 3])\n",
    "image_np = img.permute(1, 2, 0).numpy()\n",
    "image_np = np.clip(image_np, 0, 1)  # für saubere Darstellung\n",
    "\n",
    "attr_vis = np.abs(attribution_map).sum(axis=0)\n",
    "attr_real_vis = np.abs(attribution_map_real).sum(axis=0)\n",
    "\n",
    "\n",
    "fig, axes = plt.subplots(1, 3, figsize=(10, 4))\n",
    "\n",
    "axes[0].imshow(image_np)\n",
    "axes[0].set_title(f'Original: {cifar10_labels[label]}')\n",
    "axes[0].axis('off')\n",
    "\n",
    "axes[1].imshow(attr_vis, cmap='hot')\n",
    "axes[1].set_title('Approx Attribution')\n",
    "axes[1].axis('off')\n",
    "\n",
    "axes[2].imshow(attr_real_vis, cmap='hot')\n",
    "axes[2].set_title('Saliency Attribution')\n",
    "axes[2].axis('off')\n",
    "\n",
    "plt.tight_layout()\n",
    "plt.show()\n",
    "\n",
    "\n",
    "print(\"Correlation:\", pearson_correlation(attr_vis, attr_real_vis))"
   ],
   "id": "c828fc27ceb3bb8e",
   "outputs": [],
   "execution_count": null
  },
  {
   "metadata": {
    "ExecuteTime": {
     "end_time": "2025-07-24T10:37:27.413789060Z",
     "start_time": "2025-07-17T17:24:59.499695Z"
    }
   },
   "cell_type": "code",
   "source": [
    "model = torch.hub.load('pytorch/vision:v0.10.0', 'resnet152', pretrained=True)\n",
    "\n",
    "# Wähle einen zufälligen Index\n",
    "idx = np.random.randint(0, len(dataset) - 1)\n",
    "\n",
    "# Hole das Bild und Label\n",
    "img, label = dataset[idx]"
   ],
   "id": "62594184e689197",
   "outputs": [
    {
     "name": "stderr",
     "output_type": "stream",
     "text": [
      "Using cache found in /home/benomin/.cache/torch/hub/pytorch_vision_v0.10.0\n",
      "/home/benomin/PycharmProjects/BA-Approximation-Feature-Attribution/.venv/lib/python3.10/site-packages/torchvision/models/_utils.py:208: UserWarning: The parameter 'pretrained' is deprecated since 0.13 and may be removed in the future, please use 'weights' instead.\n",
      "  warnings.warn(\n",
      "/home/benomin/PycharmProjects/BA-Approximation-Feature-Attribution/.venv/lib/python3.10/site-packages/torchvision/models/_utils.py:223: UserWarning: Arguments other than a weight enum or `None` for 'weights' are deprecated since 0.13 and may be removed in the future. The current behavior is equivalent to passing `weights=ResNet152_Weights.IMAGENET1K_V1`. You can also use `weights=ResNet152_Weights.DEFAULT` to get the most up-to-date weights.\n",
      "  warnings.warn(msg)\n"
     ]
    }
   ],
   "execution_count": 18
  },
  {
   "metadata": {
    "ExecuteTime": {
     "end_time": "2025-07-24T10:37:27.422220136Z",
     "start_time": "2025-07-17T17:25:03.222755Z"
    }
   },
   "cell_type": "code",
   "source": [
    "# shape: [3, 32, 32]\n",
    "img, label = dataset[idx]\n",
    "\n",
    "\n",
    "attribution_map = aa.grad_approx(0.01, [img.unsqueeze(0)], label).reshape(3, 32, 32)\n",
    "\n",
    "\n",
    "attribution_map_real = sal.attribute(img.unsqueeze(0).float(), target=label)\n",
    "attribution_map_real = attribution_map_real.squeeze().detach().numpy()  # shape: [3, 32, 32]\n",
    "\n",
    "# shape: [3, 32, 32] -> [32, 32, 3]\n",
    "image_np = img.permute(1, 2, 0).numpy()\n",
    "image_np = np.clip(image_np, 0, 1)\n",
    "\n",
    "\n",
    "attr_vis = np.abs(attribution_map).sum(axis=0)\n",
    "attr_real_vis = np.abs(attribution_map_real).sum(axis=0)\n",
    "\n",
    "\n",
    "fig, axes = plt.subplots(1, 3, figsize=(10, 4))\n",
    "\n",
    "axes[0].imshow(image_np)\n",
    "axes[0].set_title(f'Original: {cifar10_labels[label]}')\n",
    "axes[0].axis('off')\n",
    "\n",
    "axes[1].imshow(attr_vis, cmap='hot')\n",
    "axes[1].set_title('Approx Attribution')\n",
    "axes[1].axis('off')\n",
    "\n",
    "axes[2].imshow(attr_real_vis, cmap='hot')\n",
    "axes[2].set_title('Saliency Attribution')\n",
    "axes[2].axis('off')\n",
    "\n",
    "plt.tight_layout()\n",
    "plt.show()\n",
    "\n",
    "\n",
    "print(\"Correlation:\", pearson_correlation(attr_vis, attr_real_vis))"
   ],
   "id": "8f5ecf79b2030952",
   "outputs": [
    {
     "name": "stdout",
     "output_type": "stream",
     "text": [
      "Grad Approx\n"
     ]
    },
    {
     "data": {
      "text/plain": [
       "<Figure size 1000x400 with 3 Axes>"
      ],
      "image/png": "[encoded data removed]"
     },
     "metadata": {},
     "output_type": "display_data"
    },
    {
     "name": "stdout",
     "output_type": "stream",
     "text": [
      "Correlation: [0.9457721049787948, 0.9973613456052951, 0.9052814247166592, 0.9663650165581693, 0.891985122041454, 0.9642091246140442, 0.9908192553236388, 0.9991599698647345, 0.9988321478652901, 0.9953368621740079, 0.9883450163599949, 0.9780903197961431, 0.9962166462995816, 0.9962529511589316, 0.9923354966001502, 0.9996898917091964, 0.9999862003354756, 0.9999536179619279, 0.9986461924943126, 0.9763842933470943, 0.9884108248915613, 0.9909099718853203, 0.9998852802384289, 0.992654815282059, 0.9911123212932437, 0.9981182878449673, 0.998318605551207, 0.9993472018342862, 0.9972888522890543, 0.8026056495508852, 0.9984009100865548, 0.977688552180124]\n"
     ]
    }
   ],
   "execution_count": 19
  }
 ],
 "metadata": {
  "kernelspec": {
   "display_name": "Python 3",
   "language": "python",
   "name": "python3"
  },
  "language_info": {
   "codemirror_mode": {
    "name": "ipython",
    "version": 2
   },
   "file_extension": ".py",
   "mimetype": "text/x-python",
   "name": "python",
   "nbconvert_exporter": "python",
   "pygments_lexer": "ipython2",
   "version": "2.7.6"
  }
 },
 "nbformat": 4,
 "nbformat_minor": 5
}
