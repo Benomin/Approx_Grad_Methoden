{
 "cells": [
  {
   "cell_type": "code",
   "id": "initial_id",
   "metadata": {
    "collapsed": true,
    "ExecuteTime": {
     "end_time": "2025-08-26T13:11:21.726955Z",
     "start_time": "2025-08-26T13:11:20.673665Z"
    }
   },
   "source": [
    "import torch\n",
    "import torchvision\n",
    "import numpy as np\n",
    "import os\n",
    "import torch.nn as nn\n",
    "import torch.optim as optim\n",
    "import shutil\n",
    "\n",
    "from sympy.strategies.core import switch\n",
    "\n",
    "from approx_attributes import *\n",
    "import torch.nn.functional as F\n",
    "from matplotlib.colors import LinearSegmentedColormap\n",
    "from torch.utils.data import Dataset\n",
    "from torchvision.transforms import ToTensor\n",
    "import matplotlib.pyplot as plt\n",
    "from torchvision import datasets, transforms\n",
    "from huggingface_hub import hf_hub_download\n",
    "from torch.utils.data import DataLoader\n",
    "import torchvision.models as models\n",
    "from PIL import Image\n",
    "import matplotlib.pyplot as plt\n",
    "from captum.attr import InputXGradient,IntegratedGradients,Saliency\n",
    "print(torch.__version__)\n",
    "print(torchvision.__version__)"
   ],
   "outputs": [
    {
     "name": "stdout",
     "output_type": "stream",
     "text": [
      "2.8.0+rocm6.4\n",
      "0.23.0+rocm6.4\n"
     ]
    },
    {
     "name": "stderr",
     "output_type": "stream",
     "text": [
      "/home/benomin/PycharmProjects/BA-Approoximation-Feature-Attribution/.venv/lib/python3.12/site-packages/tqdm/auto.py:21: TqdmWarning: IProgress not found. Please update jupyter and ipywidgets. See https://ipywidgets.readthedocs.io/en/stable/user_install.html\n",
      "  from .autonotebook import tqdm as notebook_tqdm\n"
     ]
    }
   ],
   "execution_count": 1
  },
  {
   "metadata": {
    "ExecuteTime": {
     "end_time": "2025-08-26T13:11:25.001002Z",
     "start_time": "2025-08-26T13:11:21.729815Z"
    }
   },
   "cell_type": "code",
   "source": [
    "device = torch.device(\"cuda\" if torch.cuda.is_available() else \"cpu\")\n",
    "\n",
    "#model = torch.load(\"resnet18_cifar10_32x32_epoch30.pth\",weights_only=False)\n",
    "#model = torch.hub.load('pytorch/vision:v0.10.0', 'resnet18', pretrained=True)\n",
    "#model.to(device)\n",
    "#model.eval()"
   ],
   "id": "4b35a19dcf2bf024",
   "outputs": [],
   "execution_count": 2
  },
  {
   "metadata": {
    "ExecuteTime": {
     "end_time": "2025-08-26T13:11:25.198060Z",
     "start_time": "2025-08-26T13:11:25.044586Z"
    }
   },
   "cell_type": "code",
   "source": [
    "\n",
    "class CNN(nn.Module):\n",
    "    def __init__(self):\n",
    "        super(CNN, self).__init__()\n",
    "        self.conv1 = nn.Conv2d(3, 32, kernel_size=3, stride=1, padding=1)  # 32x32x32\n",
    "        self.conv2 = nn.Conv2d(32, 32, kernel_size=3, stride=1, padding=1)  # 32x32x32 -> 16x16x32 (nach MaxPool)\n",
    "        self.conv3 = nn.Conv2d(32, 64, kernel_size=3, stride=1, padding=1)  # 16x16x64 -> 8x8x64 (nach MaxPool)\n",
    "        self.flatten = nn.Flatten()\n",
    "        self.fc1 = nn.Linear(64*8*8, 256)  # 64*8*8 = 4096\n",
    "        self.fc2 = nn.Linear(256, 10)\n",
    "\n",
    "    def forward(self, x):\n",
    "        # Input: 32x32x3\n",
    "        x = F.relu(self.conv1(x))                      # -> 32x32x32\n",
    "        x = F.relu(self.conv2(x))                      # -> 32x32x32\n",
    "        x = F.max_pool2d(x, 2)                         # -> 16x16x32\n",
    "        x = F.relu(self.conv3(x))                      # -> 16x16x64\n",
    "        x = F.max_pool2d(x, 2)                         # -> 8x8x64\n",
    "        x = self.flatten(x)                            # -> 4096\n",
    "        x = F.relu(self.fc1(x))                        # -> 256\n",
    "        x = self.fc2(x)                                # -> 10\n",
    "        return x\n",
    "\n",
    "device = torch.device(\"cuda\" if torch.cuda.is_available() else \"cpu\")\n",
    "\n",
    "model = CNN().to(device)\n",
    "\n",
    "if os.path.isfile(\"CifarModelCnn.pth\"):\n",
    "\n",
    "    state_dict = torch.load(\"CifarModelCnn.pth\", map_location=torch.device(device))\n",
    "\n",
    "    model.load_state_dict(state_dict)\n",
    "    model.eval()\n"
   ],
   "id": "129f2b0d8388fe6",
   "outputs": [],
   "execution_count": 3
  },
  {
   "metadata": {
    "ExecuteTime": {
     "end_time": "2025-08-26T13:12:45.861785Z",
     "start_time": "2025-08-26T13:11:25.321890Z"
    }
   },
   "cell_type": "code",
   "source": [
    "\n",
    "model2 = models.resnet18(num_classes=10)\n",
    "\n",
    "model2.load_state_dict(torch.load(\"resnet18_cifar10.pth\", map_location=\"cpu\"))\n",
    "model2.to(device)\n",
    "model2.eval()\n",
    "\n",
    "model3 = models.resnet50(weights=None, num_classes=10)\n",
    "model3.conv1 = nn.Conv2d(3, 64, kernel_size=3, stride=1, padding=1, bias=False)\n",
    "model3.maxpool = nn.Identity()\n",
    "\n",
    "\n",
    "weights_path = hf_hub_download(repo_id=\"edadaltocg/resnet50_cifar10\", filename=\"pytorch_model.bin\")\n",
    "state_dict = torch.load(weights_path, map_location=\"cpu\")\n",
    "model3.load_state_dict(state_dict)\n",
    "model3.to(device)\n",
    "model3.eval()\n",
    "\n"
   ],
   "id": "93d03bab1cafa1fb",
   "outputs": [
    {
     "data": {
      "text/plain": [
       "ResNet(\n",
       "  (conv1): Conv2d(3, 64, kernel_size=(3, 3), stride=(1, 1), padding=(1, 1), bias=False)\n",
       "  (bn1): BatchNorm2d(64, eps=1e-05, momentum=0.1, affine=True, track_running_stats=True)\n",
       "  (relu): ReLU(inplace=True)\n",
       "  (maxpool): Identity()\n",
       "  (layer1): Sequential(\n",
       "    (0): Bottleneck(\n",
       "      (conv1): Conv2d(64, 64, kernel_size=(1, 1), stride=(1, 1), bias=False)\n",
       "      (bn1): BatchNorm2d(64, eps=1e-05, momentum=0.1, affine=True, track_running_stats=True)\n",
       "      (conv2): Conv2d(64, 64, kernel_size=(3, 3), stride=(1, 1), padding=(1, 1), bias=False)\n",
       "      (bn2): BatchNorm2d(64, eps=1e-05, momentum=0.1, affine=True, track_running_stats=True)\n",
       "      (conv3): Conv2d(64, 256, kernel_size=(1, 1), stride=(1, 1), bias=False)\n",
       "      (bn3): BatchNorm2d(256, eps=1e-05, momentum=0.1, affine=True, track_running_stats=True)\n",
       "      (relu): ReLU(inplace=True)\n",
       "      (downsample): Sequential(\n",
       "        (0): Conv2d(64, 256, kernel_size=(1, 1), stride=(1, 1), bias=False)\n",
       "        (1): BatchNorm2d(256, eps=1e-05, momentum=0.1, affine=True, track_running_stats=True)\n",
       "      )\n",
       "    )\n",
       "    (1): Bottleneck(\n",
       "      (conv1): Conv2d(256, 64, kernel_size=(1, 1), stride=(1, 1), bias=False)\n",
       "      (bn1): BatchNorm2d(64, eps=1e-05, momentum=0.1, affine=True, track_running_stats=True)\n",
       "      (conv2): Conv2d(64, 64, kernel_size=(3, 3), stride=(1, 1), padding=(1, 1), bias=False)\n",
       "      (bn2): BatchNorm2d(64, eps=1e-05, momentum=0.1, affine=True, track_running_stats=True)\n",
       "      (conv3): Conv2d(64, 256, kernel_size=(1, 1), stride=(1, 1), bias=False)\n",
       "      (bn3): BatchNorm2d(256, eps=1e-05, momentum=0.1, affine=True, track_running_stats=True)\n",
       "      (relu): ReLU(inplace=True)\n",
       "    )\n",
       "    (2): Bottleneck(\n",
       "      (conv1): Conv2d(256, 64, kernel_size=(1, 1), stride=(1, 1), bias=False)\n",
       "      (bn1): BatchNorm2d(64, eps=1e-05, momentum=0.1, affine=True, track_running_stats=True)\n",
       "      (conv2): Conv2d(64, 64, kernel_size=(3, 3), stride=(1, 1), padding=(1, 1), bias=False)\n",
       "      (bn2): BatchNorm2d(64, eps=1e-05, momentum=0.1, affine=True, track_running_stats=True)\n",
       "      (conv3): Conv2d(64, 256, kernel_size=(1, 1), stride=(1, 1), bias=False)\n",
       "      (bn3): BatchNorm2d(256, eps=1e-05, momentum=0.1, affine=True, track_running_stats=True)\n",
       "      (relu): ReLU(inplace=True)\n",
       "    )\n",
       "  )\n",
       "  (layer2): Sequential(\n",
       "    (0): Bottleneck(\n",
       "      (conv1): Conv2d(256, 128, kernel_size=(1, 1), stride=(1, 1), bias=False)\n",
       "      (bn1): BatchNorm2d(128, eps=1e-05, momentum=0.1, affine=True, track_running_stats=True)\n",
       "      (conv2): Conv2d(128, 128, kernel_size=(3, 3), stride=(2, 2), padding=(1, 1), bias=False)\n",
       "      (bn2): BatchNorm2d(128, eps=1e-05, momentum=0.1, affine=True, track_running_stats=True)\n",
       "      (conv3): Conv2d(128, 512, kernel_size=(1, 1), stride=(1, 1), bias=False)\n",
       "      (bn3): BatchNorm2d(512, eps=1e-05, momentum=0.1, affine=True, track_running_stats=True)\n",
       "      (relu): ReLU(inplace=True)\n",
       "      (downsample): Sequential(\n",
       "        (0): Conv2d(256, 512, kernel_size=(1, 1), stride=(2, 2), bias=False)\n",
       "        (1): BatchNorm2d(512, eps=1e-05, momentum=0.1, affine=True, track_running_stats=True)\n",
       "      )\n",
       "    )\n",
       "    (1): Bottleneck(\n",
       "      (conv1): Conv2d(512, 128, kernel_size=(1, 1), stride=(1, 1), bias=False)\n",
       "      (bn1): BatchNorm2d(128, eps=1e-05, momentum=0.1, affine=True, track_running_stats=True)\n",
       "      (conv2): Conv2d(128, 128, kernel_size=(3, 3), stride=(1, 1), padding=(1, 1), bias=False)\n",
       "      (bn2): BatchNorm2d(128, eps=1e-05, momentum=0.1, affine=True, track_running_stats=True)\n",
       "      (conv3): Conv2d(128, 512, kernel_size=(1, 1), stride=(1, 1), bias=False)\n",
       "      (bn3): BatchNorm2d(512, eps=1e-05, momentum=0.1, affine=True, track_running_stats=True)\n",
       "      (relu): ReLU(inplace=True)\n",
       "    )\n",
       "    (2): Bottleneck(\n",
       "      (conv1): Conv2d(512, 128, kernel_size=(1, 1), stride=(1, 1), bias=False)\n",
       "      (bn1): BatchNorm2d(128, eps=1e-05, momentum=0.1, affine=True, track_running_stats=True)\n",
       "      (conv2): Conv2d(128, 128, kernel_size=(3, 3), stride=(1, 1), padding=(1, 1), bias=False)\n",
       "      (bn2): BatchNorm2d(128, eps=1e-05, momentum=0.1, affine=True, track_running_stats=True)\n",
       "      (conv3): Conv2d(128, 512, kernel_size=(1, 1), stride=(1, 1), bias=False)\n",
       "      (bn3): BatchNorm2d(512, eps=1e-05, momentum=0.1, affine=True, track_running_stats=True)\n",
       "      (relu): ReLU(inplace=True)\n",
       "    )\n",
       "    (3): Bottleneck(\n",
       "      (conv1): Conv2d(512, 128, kernel_size=(1, 1), stride=(1, 1), bias=False)\n",
       "      (bn1): BatchNorm2d(128, eps=1e-05, momentum=0.1, affine=True, track_running_stats=True)\n",
       "      (conv2): Conv2d(128, 128, kernel_size=(3, 3), stride=(1, 1), padding=(1, 1), bias=False)\n",
       "      (bn2): BatchNorm2d(128, eps=1e-05, momentum=0.1, affine=True, track_running_stats=True)\n",
       "      (conv3): Conv2d(128, 512, kernel_size=(1, 1), stride=(1, 1), bias=False)\n",
       "      (bn3): BatchNorm2d(512, eps=1e-05, momentum=0.1, affine=True, track_running_stats=True)\n",
       "      (relu): ReLU(inplace=True)\n",
       "    )\n",
       "  )\n",
       "  (layer3): Sequential(\n",
       "    (0): Bottleneck(\n",
       "      (conv1): Conv2d(512, 256, kernel_size=(1, 1), stride=(1, 1), bias=False)\n",
       "      (bn1): BatchNorm2d(256, eps=1e-05, momentum=0.1, affine=True, track_running_stats=True)\n",
       "      (conv2): Conv2d(256, 256, kernel_size=(3, 3), stride=(2, 2), padding=(1, 1), bias=False)\n",
       "      (bn2): BatchNorm2d(256, eps=1e-05, momentum=0.1, affine=True, track_running_stats=True)\n",
       "      (conv3): Conv2d(256, 1024, kernel_size=(1, 1), stride=(1, 1), bias=False)\n",
       "      (bn3): BatchNorm2d(1024, eps=1e-05, momentum=0.1, affine=True, track_running_stats=True)\n",
       "      (relu): ReLU(inplace=True)\n",
       "      (downsample): Sequential(\n",
       "        (0): Conv2d(512, 1024, kernel_size=(1, 1), stride=(2, 2), bias=False)\n",
       "        (1): BatchNorm2d(1024, eps=1e-05, momentum=0.1, affine=True, track_running_stats=True)\n",
       "      )\n",
       "    )\n",
       "    (1): Bottleneck(\n",
       "      (conv1): Conv2d(1024, 256, kernel_size=(1, 1), stride=(1, 1), bias=False)\n",
       "      (bn1): BatchNorm2d(256, eps=1e-05, momentum=0.1, affine=True, track_running_stats=True)\n",
       "      (conv2): Conv2d(256, 256, kernel_size=(3, 3), stride=(1, 1), padding=(1, 1), bias=False)\n",
       "      (bn2): BatchNorm2d(256, eps=1e-05, momentum=0.1, affine=True, track_running_stats=True)\n",
       "      (conv3): Conv2d(256, 1024, kernel_size=(1, 1), stride=(1, 1), bias=False)\n",
       "      (bn3): BatchNorm2d(1024, eps=1e-05, momentum=0.1, affine=True, track_running_stats=True)\n",
       "      (relu): ReLU(inplace=True)\n",
       "    )\n",
       "    (2): Bottleneck(\n",
       "      (conv1): Conv2d(1024, 256, kernel_size=(1, 1), stride=(1, 1), bias=False)\n",
       "      (bn1): BatchNorm2d(256, eps=1e-05, momentum=0.1, affine=True, track_running_stats=True)\n",
       "      (conv2): Conv2d(256, 256, kernel_size=(3, 3), stride=(1, 1), padding=(1, 1), bias=False)\n",
       "      (bn2): BatchNorm2d(256, eps=1e-05, momentum=0.1, affine=True, track_running_stats=True)\n",
       "      (conv3): Conv2d(256, 1024, kernel_size=(1, 1), stride=(1, 1), bias=False)\n",
       "      (bn3): BatchNorm2d(1024, eps=1e-05, momentum=0.1, affine=True, track_running_stats=True)\n",
       "      (relu): ReLU(inplace=True)\n",
       "    )\n",
       "    (3): Bottleneck(\n",
       "      (conv1): Conv2d(1024, 256, kernel_size=(1, 1), stride=(1, 1), bias=False)\n",
       "      (bn1): BatchNorm2d(256, eps=1e-05, momentum=0.1, affine=True, track_running_stats=True)\n",
       "      (conv2): Conv2d(256, 256, kernel_size=(3, 3), stride=(1, 1), padding=(1, 1), bias=False)\n",
       "      (bn2): BatchNorm2d(256, eps=1e-05, momentum=0.1, affine=True, track_running_stats=True)\n",
       "      (conv3): Conv2d(256, 1024, kernel_size=(1, 1), stride=(1, 1), bias=False)\n",
       "      (bn3): BatchNorm2d(1024, eps=1e-05, momentum=0.1, affine=True, track_running_stats=True)\n",
       "      (relu): ReLU(inplace=True)\n",
       "    )\n",
       "    (4): Bottleneck(\n",
       "      (conv1): Conv2d(1024, 256, kernel_size=(1, 1), stride=(1, 1), bias=False)\n",
       "      (bn1): BatchNorm2d(256, eps=1e-05, momentum=0.1, affine=True, track_running_stats=True)\n",
       "      (conv2): Conv2d(256, 256, kernel_size=(3, 3), stride=(1, 1), padding=(1, 1), bias=False)\n",
       "      (bn2): BatchNorm2d(256, eps=1e-05, momentum=0.1, affine=True, track_running_stats=True)\n",
       "      (conv3): Conv2d(256, 1024, kernel_size=(1, 1), stride=(1, 1), bias=False)\n",
       "      (bn3): BatchNorm2d(1024, eps=1e-05, momentum=0.1, affine=True, track_running_stats=True)\n",
       "      (relu): ReLU(inplace=True)\n",
       "    )\n",
       "    (5): Bottleneck(\n",
       "      (conv1): Conv2d(1024, 256, kernel_size=(1, 1), stride=(1, 1), bias=False)\n",
       "      (bn1): BatchNorm2d(256, eps=1e-05, momentum=0.1, affine=True, track_running_stats=True)\n",
       "      (conv2): Conv2d(256, 256, kernel_size=(3, 3), stride=(1, 1), padding=(1, 1), bias=False)\n",
       "      (bn2): BatchNorm2d(256, eps=1e-05, momentum=0.1, affine=True, track_running_stats=True)\n",
       "      (conv3): Conv2d(256, 1024, kernel_size=(1, 1), stride=(1, 1), bias=False)\n",
       "      (bn3): BatchNorm2d(1024, eps=1e-05, momentum=0.1, affine=True, track_running_stats=True)\n",
       "      (relu): ReLU(inplace=True)\n",
       "    )\n",
       "  )\n",
       "  (layer4): Sequential(\n",
       "    (0): Bottleneck(\n",
       "      (conv1): Conv2d(1024, 512, kernel_size=(1, 1), stride=(1, 1), bias=False)\n",
       "      (bn1): BatchNorm2d(512, eps=1e-05, momentum=0.1, affine=True, track_running_stats=True)\n",
       "      (conv2): Conv2d(512, 512, kernel_size=(3, 3), stride=(2, 2), padding=(1, 1), bias=False)\n",
       "      (bn2): BatchNorm2d(512, eps=1e-05, momentum=0.1, affine=True, track_running_stats=True)\n",
       "      (conv3): Conv2d(512, 2048, kernel_size=(1, 1), stride=(1, 1), bias=False)\n",
       "      (bn3): BatchNorm2d(2048, eps=1e-05, momentum=0.1, affine=True, track_running_stats=True)\n",
       "      (relu): ReLU(inplace=True)\n",
       "      (downsample): Sequential(\n",
       "        (0): Conv2d(1024, 2048, kernel_size=(1, 1), stride=(2, 2), bias=False)\n",
       "        (1): BatchNorm2d(2048, eps=1e-05, momentum=0.1, affine=True, track_running_stats=True)\n",
       "      )\n",
       "    )\n",
       "    (1): Bottleneck(\n",
       "      (conv1): Conv2d(2048, 512, kernel_size=(1, 1), stride=(1, 1), bias=False)\n",
       "      (bn1): BatchNorm2d(512, eps=1e-05, momentum=0.1, affine=True, track_running_stats=True)\n",
       "      (conv2): Conv2d(512, 512, kernel_size=(3, 3), stride=(1, 1), padding=(1, 1), bias=False)\n",
       "      (bn2): BatchNorm2d(512, eps=1e-05, momentum=0.1, affine=True, track_running_stats=True)\n",
       "      (conv3): Conv2d(512, 2048, kernel_size=(1, 1), stride=(1, 1), bias=False)\n",
       "      (bn3): BatchNorm2d(2048, eps=1e-05, momentum=0.1, affine=True, track_running_stats=True)\n",
       "      (relu): ReLU(inplace=True)\n",
       "    )\n",
       "    (2): Bottleneck(\n",
       "      (conv1): Conv2d(2048, 512, kernel_size=(1, 1), stride=(1, 1), bias=False)\n",
       "      (bn1): BatchNorm2d(512, eps=1e-05, momentum=0.1, affine=True, track_running_stats=True)\n",
       "      (conv2): Conv2d(512, 512, kernel_size=(3, 3), stride=(1, 1), padding=(1, 1), bias=False)\n",
       "      (bn2): BatchNorm2d(512, eps=1e-05, momentum=0.1, affine=True, track_running_stats=True)\n",
       "      (conv3): Conv2d(512, 2048, kernel_size=(1, 1), stride=(1, 1), bias=False)\n",
       "      (bn3): BatchNorm2d(2048, eps=1e-05, momentum=0.1, affine=True, track_running_stats=True)\n",
       "      (relu): ReLU(inplace=True)\n",
       "    )\n",
       "  )\n",
       "  (avgpool): AdaptiveAvgPool2d(output_size=(1, 1))\n",
       "  (fc): Linear(in_features=2048, out_features=10, bias=True)\n",
       ")"
      ]
     },
     "execution_count": 4,
     "metadata": {},
     "output_type": "execute_result"
    }
   ],
   "execution_count": 4
  },
  {
   "metadata": {
    "ExecuteTime": {
     "end_time": "2025-08-26T13:12:46.780809Z",
     "start_time": "2025-08-26T13:12:46.018709Z"
    }
   },
   "cell_type": "code",
   "source": [
    "transform = transforms.Compose([\n",
    "    transforms.Resize((32, 32)),\n",
    "    transforms.ToTensor(),\n",
    "    transforms.Normalize(\n",
    "        mean=[0.4914, 0.4822, 0.4465],\n",
    "        std=[0.2023, 0.1994, 0.2010]\n",
    "    )\n",
    "])\n",
    "\n",
    "cifar_trainset = datasets.CIFAR10(root='./data', train=True, download=True, transform=transform)\n",
    "\n",
    "cifar_testset = datasets.CIFAR10(root='./data', train=False, download=True, transform=transform)\n",
    "train_loader = torch.utils.data.DataLoader(cifar_trainset, batch_size=1, shuffle=True)\n",
    "test_loader = torch.utils.data.DataLoader(cifar_testset, batch_size=1, shuffle=False)\n",
    "\n",
    "dataset = test_loader.dataset\n",
    "cifar10_labels = {\n",
    "    0: \"airplane\",\n",
    "    1: \"automobile\",\n",
    "    2: \"bird\",\n",
    "    3: \"cat\",\n",
    "    4: \"deer\",\n",
    "    5: \"dog\",\n",
    "    6: \"frog\",\n",
    "    7: \"horse\",\n",
    "    8: \"ship\",\n",
    "    9: \"truck\"\n",
    "}"
   ],
   "id": "faa0b5b5ae2416cb",
   "outputs": [],
   "execution_count": 5
  },
  {
   "metadata": {
    "ExecuteTime": {
     "end_time": "2025-08-26T13:12:46.938788Z",
     "start_time": "2025-08-26T13:12:46.936959Z"
    }
   },
   "cell_type": "code",
   "source": [
    "def to_numpy_image(attr):\n",
    "    \"\"\"\n",
    "    Bringt Attribution Map in Shape (H,W,C) für matplotlib.\n",
    "    Erwartet Tensor oder numpy array in Form:\n",
    "    - (C,H,W)\n",
    "    - (H,W,C)\n",
    "    - (3072,)\n",
    "    - (1,C,H,W)\n",
    "    \"\"\"\n",
    "    if isinstance(attr, torch.Tensor):\n",
    "        attr = attr.detach().cpu().numpy()\n",
    "\n",
    "    if attr.ndim == 1:  # flach: 3072\n",
    "        attr = attr.reshape(3, 32, 32)\n",
    "\n",
    "    if attr.ndim == 4:  # Batch-Format\n",
    "        attr = attr.squeeze(0)  # -> (C,H,W)\n",
    "\n",
    "    if attr.shape[0] == 3 and attr.ndim == 3:  # (C,H,W)\n",
    "        attr = np.transpose(attr, (1, 2, 0))\n",
    "\n",
    "    return attr"
   ],
   "id": "3cd6573232c1b517",
   "outputs": [],
   "execution_count": 6
  },
  {
   "metadata": {
    "ExecuteTime": {
     "end_time": "2025-08-26T13:18:59.598999Z",
     "start_time": "2025-08-26T13:17:28.766929Z"
    }
   },
   "cell_type": "code",
   "source": [
    "model = model\n",
    "aa = ApproxAttribution(model)\n",
    "sal = Saliency(model)\n",
    "IxG = InputXGradient(model)\n",
    "ig = IntegratedGradients(model)\n",
    "\n",
    "idx = np.random.randint(0, len(dataset) - 1)\n",
    "\n",
    "plt.style.use('default')\n",
    "\n",
    "fig, axes = plt.subplots(3, 3, figsize=(8,10))\n",
    "fig.set_facecolor('white')\n",
    "\n",
    "axes[0, 0].set_title('Saliency')\n",
    "axes[0, 1].set_title('Gradient x Input')\n",
    "axes[0, 2].set_title('Integrated Gradients')\n",
    "\n",
    "fig.text(0.02, 0.75, 'Originalbild', rotation=90, verticalalignment='center',fontsize=12)\n",
    "fig.text(0.02, 0.5, 'Approximation', rotation=90, verticalalignment='center',fontsize=12)\n",
    "fig.text(0.02, 0.25, 'Attribution', rotation=90, verticalalignment='center',fontsize=12)\n",
    "\n",
    "cnt = 0\n",
    "for i in range(3):\n",
    "    img, label = dataset[idx]\n",
    "\n",
    "    #attribution_map_real = ig.attribute(img.unsqueeze(0).float(), target=label,baselines=torch.zeros_like(img, dtype=torch.float)).detach().numpy()\n",
    "    #attribution_map = to_numpy_image(aa.grad_approx(0.1,[img.unsqueeze(0)],label))\n",
    "    #attribution_map_real = to_numpy_image(sal.attribute(img.unsqueeze(0).float().to(device), target=label))\n",
    "\n",
    "    if i == 0:\n",
    "        attribution_map = aa.grad_approx(0.0001, [img.unsqueeze(0)], target=label).reshape(3, 32, 32)\n",
    "        attribution_map_real = sal.attribute(img.unsqueeze(0).float().to(device), target=label)\n",
    "    elif i == 1:\n",
    "        attribution_map = aa.grad_x_i_approx(0.0001, [img.unsqueeze(0)], target=label).reshape(3, 32, 32)\n",
    "        attribution_map_real = IxG.attribute(img.unsqueeze(0).float().to(device), target=label)\n",
    "    elif i == 2:\n",
    "        attribution_map = aa.int_grad_approx(0.0001, [img.unsqueeze(0)], target=label).reshape(3, 32, 32)\n",
    "        attribution_map_real = ig.attribute(img.unsqueeze(0).float().to(device), target=label,baselines=torch.zeros_like(img.unsqueeze(0), dtype=torch.float).to(device)) #.detach().cpu().numpy()\n",
    "\n",
    "\n",
    "    attribution_map_real = attribution_map_real.squeeze().detach().cpu().numpy()  # shape: [3, # 32, 32]\n",
    "\n",
    "    attr_vis = np.abs(attribution_map).max(axis=0)\n",
    "    attr_real_vis = np.abs(attribution_map_real).max(axis=0)\n",
    "\n",
    "    image_np = to_numpy_image(img)\n",
    "\n",
    "    im = axes[0,i].imshow(image_np)\n",
    "    axes[0,i].axis('off')\n",
    "\n",
    "    im1 = axes[1,i].imshow(attr_vis, cmap='hot')\n",
    "    axes[1,i].axis('off')\n",
    "\n",
    "    im2 = axes[2,i].imshow(attr_real_vis, cmap='hot')\n",
    "    axes[2,i].axis('off')\n",
    "\n",
    "    cnt = cnt + 1\n",
    "\n",
    "plt.subplots_adjust(wspace=0.05, hspace=0.1)\n",
    "fig.colorbar(im1, ax=axes.ravel().tolist(), label='Attributionswerte')\n",
    "#plt.tight_layout()\n",
    "plt.savefig(\"mein_plot.png\", bbox_inches='tight')\n",
    "plt.show()"
   ],
   "id": "c2128cacd555d2c5",
   "outputs": [
    {
     "name": "stderr",
     "output_type": "stream",
     "text": [
      "/home/benomin/PycharmProjects/BA-Approoximation-Feature-Attribution/.venv/lib/python3.12/site-packages/captum/attr/_core/saliency.py:129: UserWarning: Input Tensor 0 did not already require gradients, required_grads has been set automatically.\n",
      "  gradient_mask = apply_gradient_requirements(inputs_tuple)\n",
      "Clipping input data to the valid range for imshow with RGB data ([0..1] for floats or [0..255] for integers). Got range [-2.2352166..2.7537313].\n",
      "/home/benomin/PycharmProjects/BA-Approoximation-Feature-Attribution/.venv/lib/python3.12/site-packages/captum/attr/_core/input_x_gradient.py:118: UserWarning: Input Tensor 0 did not already require gradients, required_grads has been set automatically.\n",
      "  gradient_mask = apply_gradient_requirements(inputs_tuple)\n",
      "Clipping input data to the valid range for imshow with RGB data ([0..1] for floats or [0..255] for integers). Got range [-2.2352166..2.7537313].\n",
      "Clipping input data to the valid range for imshow with RGB data ([0..1] for floats or [0..255] for integers). Got range [-2.2352166..2.7537313].\n"
     ]
    },
    {
     "data": {
      "text/plain": [
       "<Figure size 800x1000 with 10 Axes>"
      ],
      "image/png": "[encoded data removed]"
     },
     "metadata": {},
     "output_type": "display_data"
    }
   ],
   "execution_count": 8
  },
  {
   "metadata": {
    "ExecuteTime": {
     "end_time": "2025-08-26T13:12:49.348498854Z",
     "start_time": "2025-08-26T13:03:19.784006Z"
    }
   },
   "cell_type": "code",
   "source": [
    "\"\"\"\n",
    "high = 1.0\n",
    "medium = 0.1\n",
    "low = 1e-4\n",
    "\n",
    "\n",
    "\n",
    "\n",
    "\n",
    "\"\"\""
   ],
   "id": "cf183ea2738525cb",
   "outputs": [
    {
     "data": {
      "text/plain": [
       "'\\nhigh = 1.0\\nmedium = 0.1\\nlow = 1e-4\\n\\n\\n\\n\\n\\n'"
      ]
     },
     "execution_count": 32,
     "metadata": {},
     "output_type": "execute_result"
    }
   ],
   "execution_count": 32
  },
  {
   "metadata": {
    "ExecuteTime": {
     "end_time": "2025-08-27T14:19:55.369223Z",
     "start_time": "2025-08-27T08:19:04.728395Z"
    }
   },
   "cell_type": "code",
   "source": [
    "high = 1.0\n",
    "mediumhigh = 0.5\n",
    "medium = 0.01\n",
    "low = 1e-4\n",
    "\n",
    "def gen_data(h=high,method=\"Sal\",filename=\"daten_sal.npz\",size=10,baseline=None,model=model):\n",
    "    aa = ApproxAttribution(model)\n",
    "    sal = Saliency(model)\n",
    "    IxG = InputXGradient(model)\n",
    "    ig = IntegratedGradients(model)\n",
    "\n",
    "    real = []\n",
    "    approx = []\n",
    "    idx =[]\n",
    "    for i in range(size):\n",
    "        idx.append(np.random.randint(0, len(dataset) - 1))\n",
    "\n",
    "    for i in idx:\n",
    "        img, label = dataset[i]\n",
    "        if method == \"Sal\":\n",
    "            approx.append(aa.grad_approx(h, [img.unsqueeze(0)], target=label).reshape(3, 32, 32))\n",
    "            real.append(sal.attribute(img.unsqueeze(0).float().to(device), target=label).squeeze().detach().cpu().numpy())\n",
    "        if method == \"GxI\":\n",
    "            approx.append(aa.grad_x_i_approx(h, [img.unsqueeze(0)], target=label).reshape(3, 32, 32))\n",
    "            real.append(IxG.attribute(img.unsqueeze(0).float().to(device), target=label).squeeze().detach().cpu().numpy())\n",
    "        if method == \"Int\":\n",
    "            approx.append(aa.int_grad_approx(h, [img.unsqueeze(0)], target=label).reshape(3, 32, 32))\n",
    "            real.append(ig.attribute(img.unsqueeze(0).float().to(device), target=label).squeeze().detach().cpu().numpy())\n",
    "\n",
    "    real_flat = [np.array(r).flatten() for r in real]\n",
    "    approx_flat = [np.array(a).flatten() for a in approx]\n",
    "\n",
    "\n",
    "    real_flat = np.array(real_flat)\n",
    "    approx_flat = np.array(approx_flat)\n",
    "    np.savez(filename, arr1=real_flat,arr2=approx_flat)\n",
    "\n",
    "gen_data(h=high,method=\"Int\",filename=\"ResNet50_Int_20_high.npz\",size=20,model=model3)"
   ],
   "id": "a6c307265d852975",
   "outputs": [],
   "execution_count": 28
  },
  {
   "metadata": {
    "ExecuteTime": {
     "end_time": "2025-08-27T20:21:42.417829Z",
     "start_time": "2025-08-27T14:19:55.586054Z"
    }
   },
   "cell_type": "code",
   "source": "gen_data(h=mediumhigh,method=\"Int\",filename=\"ResNet50_Int_20_mediumhigh.npz\",size=20,model=model3)",
   "id": "6dd46ebcc22cff6c",
   "outputs": [],
   "execution_count": 29
  },
  {
   "metadata": {
    "ExecuteTime": {
     "end_time": "2025-08-27T21:46:52.436725Z",
     "start_time": "2025-08-27T21:10:30.144377Z"
    }
   },
   "cell_type": "code",
   "source": [
    "gen_data(h=high,method=\"GxI\",filename=\"ResNet50_GxI_50_high.npz\",size=50,model=model3)\n",
    "gen_data(h=mediumhigh,method=\"GxI\",filename=\"ResNet50_GxI_50_mediumhigh.npz\",size=50,model=model3)"
   ],
   "id": "b08ee0026cda6f65",
   "outputs": [],
   "execution_count": 32
  },
  {
   "metadata": {
    "ExecuteTime": {
     "end_time": "2025-08-28T00:10:38.675623Z",
     "start_time": "2025-08-27T22:59:08.682844Z"
    }
   },
   "cell_type": "code",
   "source": [
    "gen_data(h=low,method=\"Sal\",filename=\"ResNet50_Sal_50_low.npz\",size=50,model=model3)\n",
    "gen_data(h=medium,method=\"Sal\",filename=\"ResNet50_Sal_50_medium.npz\",size=50,model=model3)\n",
    "gen_data(h=high,method=\"Sal\",filename=\"ResNet50_Sal_50_high.npz\",size=50,model=model3)\n",
    "gen_data(h=mediumhigh,method=\"Sal\",filename=\"ResNet50_Sal_50_mediumhigh.npz\",size=50,model=model3)"
   ],
   "id": "359a0b5606dd7f25",
   "outputs": [],
   "execution_count": 34
  },
  {
   "metadata": {
    "jupyter": {
     "is_executing": true
    },
    "ExecuteTime": {
     "start_time": "2025-08-28T08:25:04.488903Z"
    }
   },
   "cell_type": "code",
   "source": [
    "gen_data(h=low,method=\"GxI\",filename=\"ResNet18_GxI_50_low.npz\",size=50,model=model2)\n",
    "gen_data(h=medium,method=\"GxI\",filename=\"ResNet18_GxI_50_medium.npz\",size=50,model=model2)\n",
    "gen_data(h=mediumhigh,method=\"GxI\",filename=\"ResNet18_GxI_50_mediumhigh.npz\",size=50,model=model2)\n",
    "gen_data(h=high,method=\"GxI\",filename=\"ResNet18_GxI_50_high.npz\",size=50,model=model2)"
   ],
   "id": "aa9389988e060dcc",
   "outputs": [],
   "execution_count": null
  },
  {
   "metadata": {},
   "cell_type": "code",
   "outputs": [],
   "execution_count": null,
   "source": [
    "gen_data(h=low,method=\"Sal\",filename=\"ResNet18_Sal_50_low.npz\",size=50,model=model2)\n",
    "gen_data(h=medium,method=\"Sal\",filename=\"ResNet18_Sal_50_medium.npz\",size=50,model=model2)\n",
    "gen_data(h=mediumhigh,method=\"Sal\",filename=\"ResNet18_Sal_50_mediumhigh.npz\",size=50,model=model2)\n",
    "gen_data(h=high,method=\"Sal\",filename=\"ResNet18_Sal_50_high.npz\",size=50,model=model2)"
   ],
   "id": "9ba281d22420e3c3"
  },
  {
   "metadata": {},
   "cell_type": "code",
   "outputs": [],
   "execution_count": null,
   "source": [
    "gen_data(h=low,method=\"Int\",filename=\"CNN_Int_20_low.npz\",size=20,model=model)\n",
    "gen_data(h=medium,method=\"Int\",filename=\"CNN_Int_20_medium.npz\",size=20,model=model)\n",
    "gen_data(h=mediumhigh,method=\"Int\",filename=\"CNN_Int_20_mediumhigh.npz\",size=20,model=model)\n",
    "gen_data(h=high,method=\"Int\",filename=\"CNN_Int_20_high.npz\",size=20,model=model)"
   ],
   "id": "3131999ac83d7e5d"
  },
  {
   "metadata": {},
   "cell_type": "code",
   "outputs": [],
   "execution_count": null,
   "source": [
    "gen_data(h=low,method=\"GxI\",filename=\"CNN_GxI_50_low.npz\",size=50,model=model)\n",
    "gen_data(h=medium,method=\"GxI\",filename=\"CNN_GxI_50_medium.npz\",size=50,model=model)\n",
    "gen_data(h=mediumhigh,method=\"GxI\",filename=\"CNN_GxI_50_mediumhigh.npz\",size=50,model=model)\n",
    "gen_data(h=high,method=\"GxI\",filename=\"CNN_GxI_50_high.npz\",size=50,model=model)\n",
    "\n",
    "gen_data(h=low,method=\"Sal\",filename=\"CNN_Sal_50_low.npz\",size=50,model=model)\n",
    "gen_data(h=medium,method=\"Sal\",filename=\"CNN_Sal_50_medium.npz\",size=50,model=model)\n",
    "gen_data(h=mediumhigh,method=\"Sal\",filename=\"CNN_Sal_50_mediumhigh.npz\",size=50,model=model)\n",
    "gen_data(h=high,method=\"Sal\",filename=\"CNN_Sal_50_high.npz\",size=50,model=model)"
   ],
   "id": "231a20189b265e5a"
  },
  {
   "metadata": {},
   "cell_type": "code",
   "outputs": [],
   "execution_count": null,
   "source": [
    "####################################################################################################\n",
    "gen_data(h=low,method=\"Int\",filename=\"ResNet18_Int_20_low.npz\",size=20,model=model2)\n",
    "gen_data(h=medium,method=\"Int\",filename=\"ResNet18_Int_20_medium.npz\",size=20,model=model2)\n",
    "gen_data(h=mediumhigh,method=\"Int\",filename=\"ResNet18_Int_20_mediumhigh.npz\",size=20,model=model2)\n",
    "gen_data(h=high,method=\"Int\",filename=\"ResNet18_Int_20_high.npz\",size=20,model=model2)\n",
    "####################################################################################################"
   ],
   "id": "ca8f303739be0e06"
  },
  {
   "metadata": {
    "ExecuteTime": {
     "end_time": "2025-08-27T08:18:29.241394Z",
     "start_time": "2025-08-27T08:18:29.228450Z"
    }
   },
   "cell_type": "code",
   "source": [
    "from captum.attr import InputXGradient,IntegratedGradients,Saliency\n",
    "from scipy import stats\n",
    "from approx_attributes import *\n",
    "from sklearn.metrics import mean_squared_error\n",
    "from sklearn.metrics.pairwise import cosine_similarity\n",
    "\n",
    "\n",
    "data = np.load(\"ResNet50_Int_20_medium.npz\")\n",
    "real = data[\"arr1\"]\n",
    "approx = data[\"arr2\"]\n",
    "print(real.shape)\n",
    "print(\"Pearson-Correlation:\",np.mean(np.corrcoef(real,approx)))\n",
    "roh,p = stats.spearmanr(real.ravel(), approx.ravel())\n",
    "print(\"Rank-Correlation:\",roh)\n",
    "print(\"Gesamt-MSE:\", mean_squared_error(real,approx))\n",
    "cos_total = cosine_similarity(real, approx)\n",
    "print(\"Gesamt-Cosine Similarity:\", cos_total)"
   ],
   "id": "adb243b06b2c191f",
   "outputs": [
    {
     "name": "stdout",
     "output_type": "stream",
     "text": [
      "(20, 3072)\n",
      "Pearson-Correlation: 0.04521190585910793\n",
      "Rank-Correlation: 0.9110776552075542\n",
      "Gesamt-MSE: 0.02908332087099552\n",
      "Gesamt-Cosine Similarity: [[ 9.75825965e-01 -6.15905151e-02  3.77173126e-02  8.04384276e-02\n",
      "  -2.38715652e-02  2.89996080e-02 -1.17279729e-02  2.93049915e-03\n",
      "   3.94096673e-02  2.41789240e-02  4.21807356e-03  6.56841276e-03\n",
      "  -7.40700867e-03  6.77203666e-03  7.19675720e-02 -2.73625068e-02\n",
      "  -3.88229080e-02 -2.23604161e-02 -1.23510454e-02  2.03803293e-02]\n",
      " [-9.01859701e-02  8.85673106e-01  5.06275054e-03  1.39300749e-02\n",
      "   1.63417794e-02 -7.30301142e-02 -5.16112484e-02 -2.12611761e-02\n",
      "  -4.36526835e-02  8.18971470e-02  3.05865949e-04 -6.78773001e-02\n",
      "   5.90675958e-02 -4.44339067e-02 -3.40971835e-02 -2.72925086e-02\n",
      "   1.39328558e-03  5.63541800e-02  7.41459504e-02 -1.84828117e-02]\n",
      " [ 3.17391045e-02 -2.87308730e-03  9.55353260e-01  1.92301255e-02\n",
      "  -4.10260409e-02  2.81814989e-02 -2.69164890e-02 -6.57442771e-03\n",
      "  -1.58562213e-02 -2.68727988e-02  7.50161707e-03  1.64910983e-02\n",
      "  -9.01144892e-02  6.53490052e-02  3.27694379e-02  1.78394541e-02\n",
      "   9.40387044e-03 -4.76950184e-02  7.85873272e-05 -3.32311727e-02]\n",
      " [ 5.69743589e-02 -8.76258221e-03 -3.76054319e-03  9.45977688e-01\n",
      "   8.70795734e-03 -2.42819805e-02  1.44372154e-02  1.00892540e-02\n",
      "   2.84617282e-02 -3.20375040e-02  3.12452186e-02 -4.13395762e-02\n",
      "   3.61811556e-02  1.27631919e-02  3.88764441e-02 -4.86359224e-02\n",
      "  -8.46351609e-02 -1.56481955e-02  5.10384329e-03 -2.43031420e-02]\n",
      " [-2.89944392e-02  1.48052061e-02 -4.59814407e-02  1.14565678e-02\n",
      "   9.55673814e-01  5.14556048e-03  4.47300039e-02  6.54755905e-03\n",
      "   1.34040741e-02 -1.64205208e-02 -3.47610824e-02  3.43946256e-02\n",
      "   5.34839183e-02 -2.57313754e-02 -6.16079122e-02  2.58051232e-02\n",
      "   3.02171148e-02  3.82423997e-02 -3.42323743e-02  4.34135174e-04]\n",
      " [ 2.48720236e-02 -6.09067120e-02  3.05765518e-03 -2.30387207e-02\n",
      "  -4.66439966e-03  9.38018441e-01  1.95117462e-02 -3.69039997e-02\n",
      "  -1.00373253e-02 -1.42367080e-01 -1.87068190e-02 -5.08361775e-03\n",
      "  -2.85422476e-03 -3.26026231e-02  1.58509538e-02 -8.14191252e-02\n",
      "  -3.65156494e-02 -8.05427786e-03 -9.95182060e-03 -8.09773430e-03]\n",
      " [-1.56831946e-02 -3.59479561e-02 -2.60692686e-02  1.35130854e-02\n",
      "   4.45921794e-02  2.76067201e-02  9.39697146e-01  9.67537053e-04\n",
      "   1.27417454e-02  4.91715968e-02 -1.81287620e-02 -1.35374106e-02\n",
      "   2.65433360e-02  1.14817601e-02 -1.61569528e-02 -5.45927994e-02\n",
      "  -2.84882244e-02  1.52321998e-02  9.31618735e-03 -3.08505725e-03]\n",
      " [-1.99328028e-02 -2.50190012e-02 -3.54105793e-02  1.06655974e-02\n",
      "   1.07318759e-02 -5.71521744e-02  1.57805271e-02  8.30670536e-01\n",
      "   6.92564179e-04 -2.19425429e-02  5.35822511e-02 -6.06346354e-02\n",
      "  -1.47971010e-03 -5.67024946e-02  8.53814464e-03  1.46417711e-02\n",
      "   3.46793905e-02 -1.20149311e-02 -2.60333382e-02 -1.45253241e-02]\n",
      " [ 4.92301695e-02 -3.75633538e-02 -8.03330820e-03  1.68943517e-02\n",
      "   8.21511447e-03  8.40238295e-03 -1.56158686e-03 -6.52616564e-03\n",
      "   8.87241006e-01  6.80086911e-02 -1.64447594e-02 -4.73496504e-03\n",
      "  -2.02451888e-02  9.92980227e-03  6.02769367e-02  3.13554406e-02\n",
      "   1.00968434e-02 -1.46917552e-02 -5.18869422e-03 -5.32728434e-03]\n",
      " [ 1.31982639e-02  6.14589043e-02 -1.47098480e-02 -1.54593028e-02\n",
      "  -5.08330613e-02 -1.03302799e-01  6.25818223e-02 -2.72072013e-02\n",
      "   5.67390844e-02  9.57364261e-01 -5.05027641e-03 -5.82126155e-02\n",
      "   3.53725292e-02 -3.42430733e-02 -3.47876176e-02  2.40874267e-03\n",
      "   4.24477234e-02  3.74893807e-02  3.01762577e-02  1.28318723e-02]\n",
      " [ 2.11501736e-02  1.45359598e-02  1.77748073e-02  3.62844728e-02\n",
      "  -3.13882455e-02 -6.60335347e-02 -8.07706174e-03  4.07181457e-02\n",
      "  -1.39600094e-02  3.76599543e-02  9.05711770e-01 -6.44587586e-03\n",
      "   1.00864116e-02  9.61281732e-03 -5.18883429e-02  7.79361501e-02\n",
      "   1.40750669e-02 -1.79831479e-02 -2.58859843e-02 -1.17426156e-04]\n",
      " [ 2.40309048e-04 -4.31509763e-02  1.85964163e-02 -5.67076020e-02\n",
      "   4.23912220e-02 -5.86165441e-03 -2.37555932e-02 -9.55887139e-02\n",
      "  -3.92490253e-03 -9.44908783e-02  2.37493590e-02  9.51549411e-01\n",
      "   6.30362378e-03  9.97669250e-03  8.54774192e-02  5.70365824e-02\n",
      "   3.69376736e-03 -6.34307880e-03  5.33553073e-03 -2.07402967e-02]\n",
      " [-2.33499543e-03 -1.69848055e-02 -8.75987336e-02  1.53058767e-02\n",
      "   4.03168686e-02 -3.93666467e-03  2.34507453e-02 -1.65052935e-02\n",
      "  -3.96997780e-02  1.56091861e-02 -2.10245252e-02  1.79357659e-02\n",
      "   8.98365259e-01 -5.58406003e-02 -1.43446038e-02 -1.57657452e-02\n",
      "  -2.14735437e-02  2.48711370e-02 -3.56290601e-02 -4.43490483e-02]\n",
      " [-1.24470871e-02 -3.35603468e-02  6.41118810e-02  1.10435504e-02\n",
      "  -3.11648175e-02 -3.05569023e-02  9.43886209e-03 -1.75261451e-03\n",
      "   1.60738938e-02 -4.49831113e-02  9.75017902e-03  7.08309934e-03\n",
      "  -4.57861573e-02  9.48620260e-01 -2.50387471e-02  7.10890163e-07\n",
      "   1.51996885e-03 -5.13412803e-03 -5.67303263e-02  4.06522937e-02]\n",
      " [ 6.90920576e-02 -2.29237452e-02  2.93943211e-02  5.17082252e-02\n",
      "  -8.72682431e-04  1.75684839e-02 -1.10485572e-02  1.88399553e-02\n",
      "   1.23723494e-02 -2.06474252e-02 -4.64790463e-02  9.99912918e-02\n",
      "  -4.52719703e-02 -2.37318911e-02  9.53852534e-01  2.09184811e-02\n",
      "  -2.22408213e-02 -7.87433907e-02 -3.22205685e-02 -4.67413403e-02]\n",
      " [-2.09187437e-02 -2.19950508e-02  8.88497755e-03 -3.80021334e-02\n",
      "   2.72361413e-02 -8.88889357e-02 -1.80933885e-02 -1.85033251e-02\n",
      "   2.49815546e-02  8.34479928e-03  5.55386990e-02  4.64141741e-02\n",
      "  -6.66408939e-03 -1.12737948e-02  1.31630227e-02  9.24716532e-01\n",
      "   9.68179386e-03 -4.28966992e-02  6.57856418e-03  2.16406155e-02]\n",
      " [-3.84134240e-02  1.16366167e-02  4.78111533e-03 -7.77042359e-02\n",
      "   2.29939949e-02 -2.42996272e-02 -2.55370680e-02  6.61635101e-02\n",
      "   1.42066209e-02  2.19488163e-02 -5.10687009e-03  1.90623347e-02\n",
      "   8.72292463e-03  4.53151850e-04 -2.60129087e-02  2.75303237e-03\n",
      "   9.68280494e-01  4.30725180e-02 -3.35218795e-02  7.65953735e-02]\n",
      " [ 9.59031470e-03  7.19713196e-02 -6.03558794e-02 -4.33667935e-02\n",
      "   3.12754959e-02 -1.61458994e-03  8.29687621e-03 -2.44878512e-02\n",
      "   1.15079284e-02  2.21310575e-02 -1.47681683e-02 -1.01214489e-02\n",
      "   4.19855975e-02  8.37911759e-03 -8.93987343e-02 -4.11154442e-02\n",
      "   5.71782738e-02  8.88052523e-01  2.77569368e-02  4.31607384e-03]\n",
      " [-2.09700391e-02  6.27969056e-02  6.68998482e-03  1.18796877e-03\n",
      "  -3.92395146e-02 -1.74836945e-02  2.46427837e-04 -4.04428244e-02\n",
      "  -1.16624972e-02 -9.86879319e-03 -3.80816348e-02  3.05094253e-02\n",
      "  -3.71694118e-02 -2.15524267e-02 -2.38831621e-02  2.47606775e-03\n",
      "  -3.59771736e-02  3.52734365e-02  9.09721971e-01 -4.18293066e-02]\n",
      " [ 2.08462793e-02  1.29629415e-03 -3.06564290e-02 -1.61655620e-02\n",
      "   2.30678879e-02 -1.73035003e-02  2.48509925e-03  2.01495923e-03\n",
      "   1.06779672e-02  5.53531712e-03 -1.80993276e-03  1.11802525e-04\n",
      "  -2.56353840e-02  3.84187438e-02 -4.02009301e-02  1.54589834e-02\n",
      "   7.00721890e-02  6.45253900e-03 -3.84655297e-02  9.40590262e-01]]\n"
     ]
    }
   ],
   "execution_count": 25
  },
  {
   "metadata": {
    "ExecuteTime": {
     "end_time": "2025-08-27T08:18:43.948229Z",
     "start_time": "2025-08-27T08:18:43.930426Z"
    }
   },
   "cell_type": "code",
   "source": [
    "import numpy as np\n",
    "from scipy import stats\n",
    "from sklearn.metrics import mean_squared_error\n",
    "from sklearn.metrics.pairwise import cosine_similarity\n",
    "\n",
    "data = np.load(\"ResNet50_Int_20_medium.npz\")\n",
    "real = data[\"arr1\"]\n",
    "approx = data[\"arr2\"]\n",
    "\n",
    "print(real.shape)  # (10, 30720)\n",
    "\n",
    "# Listen, um Ergebnisse zu speichern\n",
    "pearson_list = []\n",
    "spearman_list = []\n",
    "mse_list = []\n",
    "cosine_list = []\n",
    "\n",
    "for i in range(real.shape[0]):\n",
    "    r = real[i]\n",
    "    a = approx[i]\n",
    "\n",
    "    # Pearson-Korrelation\n",
    "    pearson = np.corrcoef(r, a)[0, 1]\n",
    "    pearson_list.append(pearson)\n",
    "\n",
    "    # Spearman-Rangkorrelation\n",
    "    roh, p = stats.spearmanr(r, a)\n",
    "    spearman_list.append(roh)\n",
    "\n",
    "    # MSE\n",
    "    mse = mean_squared_error(r, a)\n",
    "    mse_list.append(mse)\n",
    "\n",
    "    # Cosine Similarity\n",
    "    cos = cosine_similarity(r.reshape(1, -1), a.reshape(1, -1))[0, 0]\n",
    "    cosine_list.append(cos)\n",
    "\n",
    "# Ausgabe\n",
    "for i in range(real.shape[0]):\n",
    "    print(f\"Sample {i}: Pearson={pearson_list[i]:.4f}, Spearman={spearman_list[i]:.4f}, MSE={mse_list[i]:.4f}, Cosine={cosine_list[i]:.4f}\")\n"
   ],
   "id": "3c8327f7ee3bb943",
   "outputs": [
    {
     "name": "stdout",
     "output_type": "stream",
     "text": [
      "(20, 3072)\n",
      "Sample 0: Pearson=0.9759, Spearman=0.9728, MSE=0.0286, Cosine=0.9758\n",
      "Sample 1: Pearson=0.8858, Spearman=0.8958, MSE=0.0273, Cosine=0.8857\n",
      "Sample 2: Pearson=0.9554, Spearman=0.9299, MSE=0.0271, Cosine=0.9554\n",
      "Sample 3: Pearson=0.9461, Spearman=0.9160, MSE=0.0344, Cosine=0.9460\n",
      "Sample 4: Pearson=0.9557, Spearman=0.9425, MSE=0.0350, Cosine=0.9557\n",
      "Sample 5: Pearson=0.9381, Spearman=0.8941, MSE=0.0354, Cosine=0.9380\n",
      "Sample 6: Pearson=0.9396, Spearman=0.9030, MSE=0.0089, Cosine=0.9397\n",
      "Sample 7: Pearson=0.8309, Spearman=0.8190, MSE=0.0046, Cosine=0.8307\n",
      "Sample 8: Pearson=0.8872, Spearman=0.8851, MSE=0.0040, Cosine=0.8872\n",
      "Sample 9: Pearson=0.9574, Spearman=0.9602, MSE=0.0309, Cosine=0.9574\n",
      "Sample 10: Pearson=0.9057, Spearman=0.8977, MSE=0.0092, Cosine=0.9057\n",
      "Sample 11: Pearson=0.9515, Spearman=0.9176, MSE=0.1830, Cosine=0.9515\n",
      "Sample 12: Pearson=0.8986, Spearman=0.8652, MSE=0.0049, Cosine=0.8984\n",
      "Sample 13: Pearson=0.9487, Spearman=0.9192, MSE=0.0129, Cosine=0.9486\n",
      "Sample 14: Pearson=0.9539, Spearman=0.9414, MSE=0.0656, Cosine=0.9539\n",
      "Sample 15: Pearson=0.9248, Spearman=0.8944, MSE=0.0085, Cosine=0.9247\n",
      "Sample 16: Pearson=0.9683, Spearman=0.9328, MSE=0.0140, Cosine=0.9683\n",
      "Sample 17: Pearson=0.8881, Spearman=0.8853, MSE=0.0062, Cosine=0.8881\n",
      "Sample 18: Pearson=0.9097, Spearman=0.9060, MSE=0.0379, Cosine=0.9097\n",
      "Sample 19: Pearson=0.9404, Spearman=0.9070, MSE=0.0034, Cosine=0.9406\n"
     ]
    }
   ],
   "execution_count": 27
  }
 ],
 "metadata": {
  "kernelspec": {
   "display_name": "Python 3",
   "language": "python",
   "name": "python3"
  },
  "language_info": {
   "codemirror_mode": {
    "name": "ipython",
    "version": 2
   },
   "file_extension": ".py",
   "mimetype": "text/x-python",
   "name": "python",
   "nbconvert_exporter": "python",
   "pygments_lexer": "ipython2",
   "version": "2.7.6"
  }
 },
 "nbformat": 4,
 "nbformat_minor": 5
}
